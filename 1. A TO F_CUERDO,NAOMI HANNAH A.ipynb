{
 "cells": [
  {
   "cell_type": "code",
   "execution_count": 2,
   "id": "6e6e53ee",
   "metadata": {},
   "outputs": [
    {
     "name": "stdout",
     "output_type": "stream",
     "text": [
      "Dataset saved to file.\n"
     ]
    }
   ],
   "source": [
    "#Question 1\n",
    "import requests\n",
    "url = 'https://raw.githubusercontent.com/AllenDowney/ThinkPython2/master/code/words.txt'\n",
    "response = requests.get(url)\n",
    "# Check if the request was successful\n",
    "if response.status_code == 200:\n",
    "# Save the content of the response to a file\n",
    "    with open('words.txt', 'wb') as f:\n",
    "        f.write(response.content)\n",
    "        print('Dataset saved to file.')\n",
    "else:\n",
    "    print('Failed to download dataset.')"
   ]
  },
  {
   "cell_type": "code",
   "execution_count": 34,
   "id": "3ce5f74a",
   "metadata": {},
   "outputs": [
    {
     "name": "stdout",
     "output_type": "stream",
     "text": [
      "Total number of words: 113783\n"
     ]
    }
   ],
   "source": [
    "#LETTER A \n",
    "with open('words.txt', 'r') as f:\n",
    "    contents = f.read()\n",
    "print(\"Total number of words:\", len(words))"
   ]
  },
  {
   "cell_type": "code",
   "execution_count": 4,
   "id": "74052d7c",
   "metadata": {},
   "outputs": [
    {
     "name": "stdout",
     "output_type": "stream",
     "text": [
      "The longest word in the file is: counterdemonstrations\n",
      "The longest word in the file is: counterdemonstrations\n"
     ]
    }
   ],
   "source": [
    "#lETTER B\n",
    "with open('words.txt', 'r') as f:\n",
    "    words = f.read().split()\n",
    "    longest_word = max(words, key=len)\n",
    "print(f\"The longest word in the file is:\",longest_word)\n",
    "\n",
    "# other way\n",
    "def longest_word():\n",
    "    with open('words.txt', 'r') as f:\n",
    "        words = f.read().split()\n",
    "        longest_word =' '\n",
    "        for word in words:\n",
    "            if len(word) > len(longest_word):\n",
    "                longest_word = word\n",
    "    print(f\"The longest word in the file is:\", longest_word)\n",
    "\n",
    "longest_word()"
   ]
  },
  {
   "cell_type": "code",
   "execution_count": 26,
   "id": "0db0487a",
   "metadata": {},
   "outputs": [
    {
     "name": "stdout",
     "output_type": "stream",
     "text": [
      "Enter a letter: b\n",
      "The number of words that starts with b: 6844\n"
     ]
    }
   ],
   "source": [
    "#LETTER C\n",
    "with open('words.txt', 'r') as f:\n",
    "    words = f.read().split()\n",
    "    letter = input(\"Enter a letter: \")\n",
    "    count = 0\n",
    "#x = word in the words text file\n",
    "    for x in words:\n",
    "        if x.startswith(letter):\n",
    "            count+=1\n",
    "    print(f\"The number of words that starts with {letter}: {count}\")"
   ]
  },
  {
   "cell_type": "code",
   "execution_count": 10,
   "id": "b3645ca0",
   "metadata": {},
   "outputs": [
    {
     "name": "stdout",
     "output_type": "stream",
     "text": [
      "Enter a word: swift\n",
      "Words that contain the word swift: \n",
      "swift\n",
      "swifter\n",
      "swifters\n",
      "swiftest\n",
      "swiftly\n",
      "swiftness\n",
      "swiftnesses\n",
      "swifts\n"
     ]
    }
   ],
   "source": [
    "#LETTER D\n",
    "with open('words.txt', 'r') as f:\n",
    "    words = f.read().split()\n",
    "    substring = input(\"Enter a word: \")\n",
    "    matching_words = []\n",
    "    for x in words:\n",
    "        if substring in x:\n",
    "            matching_words.append(x)\n",
    "print(f\"Words that contain the word {substring}: \")\n",
    "if matching_words:\n",
    "    for x in range(len(matching_words)):\n",
    "        print (matching_words[x])\n",
    "else:\n",
    "    print(\"Not available.\")"
   ]
  },
  {
   "cell_type": "code",
   "execution_count": 11,
   "id": "14016b7c",
   "metadata": {},
   "outputs": [
    {
     "name": "stdout",
     "output_type": "stream",
     "text": [
      "['aa', 'aba', 'aga', 'aha', 'ala', 'alula', 'ama', 'ana', 'anna', 'ava', 'awa', 'bib', 'bob', 'boob', 'bub', 'civic', 'dad', 'deed', 'deified', 'deked', 'deled', 'denned', 'dewed', 'did', 'dud', 'eke', 'eme', 'ere', 'eve', 'ewe', 'eye', 'gag', 'gig', 'hah', 'halalah', 'hallah', 'huh', 'kaiak', 'kayak', 'keek', 'kook', 'level', 'madam', 'marram', 'mem', 'mim', 'minim', 'mom', 'mum', 'noon', 'nun', 'oho', 'otto', 'pap', 'peep', 'pep', 'pip', 'poop', 'pop', 'pup', 'radar', 'redder', 'refer', 'reifier', 'repaper', 'reviver', 'rotator', 'rotor', 'sagas', 'sees', 'selles', 'sememes', 'semes', 'seres', 'sexes', 'shahs', 'sis', 'solos', 'sos', 'stets', 'tat', 'tenet', 'terret', 'tit', 'toot', 'tot', 'tut', 'vav', 'waw', 'wow', 'yay']\n"
     ]
    }
   ],
   "source": [
    "#LETTER E\n",
    "with open('words.txt', 'r') as f:\n",
    "    words = f.read().split()\n",
    "    palindrome_words = []\n",
    "    for word in words:\n",
    "        if word == word[::-1]:\n",
    "             palindrome_words.append(word)\n",
    "print(palindrome_words)"
   ]
  },
  {
   "cell_type": "code",
   "execution_count": 54,
   "id": "ad14769c",
   "metadata": {},
   "outputs": [
    {
     "name": "stdout",
     "output_type": "stream",
     "text": [
      "{'a': 1, '\\n': 1, 'h': 1, 'e': 1, 'd': 1, 'i': 1, 'n': 1, 'g': 1, 's': 1, 'l': 1, 'r': 1, 'v': 1, 'k': 1, 'w': 1, 'o': 1, 'f': 1, 'b': 1, 'c': 1, 'u': 1, 't': 1, 'm': 1, 'p': 1, 'y': 1, 'x': 1, 'j': 1, 'z': 1, 'q': 1}\n"
     ]
    }
   ],
   "source": [
    "#LETTER F\n",
    "# y = character\n",
    "# x = line\n",
    "frequency = {}\n",
    "with open('words.txt', 'r') as f:\n",
    "    for x in f:\n",
    "        for y in x:\n",
    "            if x in frequency:   \n",
    "                frequency[y] +=1\n",
    "            else:\n",
    "                frequency[y] = 1\n",
    "                    \n",
    "print(frequency)"
   ]
  }
 ],
 "metadata": {
  "kernelspec": {
   "display_name": "Python 3 (ipykernel)",
   "language": "python",
   "name": "python3"
  },
  "language_info": {
   "codemirror_mode": {
    "name": "ipython",
    "version": 3
   },
   "file_extension": ".py",
   "mimetype": "text/x-python",
   "name": "python",
   "nbconvert_exporter": "python",
   "pygments_lexer": "ipython3",
   "version": "3.9.13"
  }
 },
 "nbformat": 4,
 "nbformat_minor": 5
}
