{
 "cells": [
  {
   "cell_type": "code",
   "execution_count": 2,
   "id": "6e6e53ee",
   "metadata": {},
   "outputs": [
    {
     "name": "stdout",
     "output_type": "stream",
     "text": [
      "Dataset saved to file.\n"
     ]
    }
   ],
   "source": [
    "#Question 1\n",
    "import requests\n",
    "url = 'https://raw.githubusercontent.com/AllenDowney/ThinkPython2/master/code/words.txt'\n",
    "response = requests.get(url)\n",
    "# Check if the request was successful\n",
    "if response.status_code == 200:\n",
    "# Save the content of the response to a file\n",
    "    with open('words.txt', 'wb') as f:\n",
    "        f.write(response.content)\n",
    "        print('Dataset saved to file.')\n",
    "else:\n",
    "    print('Failed to download dataset.')"
   ]
  },
  {
   "cell_type": "code",
   "execution_count": 34,
   "id": "3ce5f74a",
   "metadata": {},
   "outputs": [
    {
     "name": "stdout",
     "output_type": "stream",
     "text": [
      "Total number of words: 113783\n"
     ]
    }
   ],
   "source": [
    "#LETTER A \n",
    "with open('words.txt', 'r') as f:\n",
    "    contents = f.read()\n",
    "print(\"Total number of words:\", len(words))"
   ]
  },
  {
   "cell_type": "code",
   "execution_count": 4,
   "id": "74052d7c",
   "metadata": {},
   "outputs": [
    {
     "name": "stdout",
     "output_type": "stream",
     "text": [
      "The longest word in the file is: counterdemonstrations\n",
      "The longest word in the file is: counterdemonstrations\n"
     ]
    }
   ],
   "source": [
    "#lETTER B\n",
    "with open('words.txt', 'r') as f:\n",
    "    words = f.read().split()\n",
    "    longest_word = max(words, key=len)\n",
    "print(f\"The longest word in the file is:\",longest_word)\n",
    "\n",
    "# other way\n",
    "def longest_word():\n",
    "    with open('words.txt', 'r') as f:\n",
    "        words = f.read().split()\n",
    "        longest_word =' '\n",
    "        for word in words:\n",
    "            if len(word) > len(longest_word):\n",
    "                longest_word = word\n",
    "    print(f\"The longest word in the file is:\", longest_word)\n",
    "\n",
    "longest_word()"
   ]
  },
  {
   "cell_type": "code",
   "execution_count": 26,
   "id": "0db0487a",
   "metadata": {},
   "outputs": [
    {
     "name": "stdout",
     "output_type": "stream",
     "text": [
      "Enter a letter: b\n",
      "The number of words that starts with b: 6844\n"
     ]
    }
   ],
   "source": [
    "#LETTER C\n",
    "with open('words.txt', 'r') as f:\n",
    "    words = f.read().split()\n",
    "    letter = input(\"Enter a letter: \")\n",
    "    count = 0\n",
    "#x = word in the words text file\n",
    "    for x in words:\n",
    "        if x.startswith(letter):\n",
    "            count+=1\n",
    "    print(f\"The number of words that starts with {letter}: {count}\")"
   ]
  },
  {
   "cell_type": "code",
   "execution_count": 10,
   "id": "b3645ca0",
   "metadata": {},
   "outputs": [
    {
     "name": "stdout",
     "output_type": "stream",
     "text": [
      "Enter a word: swift\n",
      "Words that contain the word swift: \n",
      "swift\n",
      "swifter\n",
      "swifters\n",
      "swiftest\n",
      "swiftly\n",
      "swiftness\n",
      "swiftnesses\n",
      "swifts\n"
     ]
    }
   ],
   "source": [
    "#LETTER D\n",
    "with open('words.txt', 'r') as f:\n",
    "    words = f.read().split()\n",
    "    substring = input(\"Enter a word: \")\n",
    "    matching_words = []\n",
    "    for x in words:\n",
    "        if substring in x:\n",
    "            matching_words.append(x)\n",
    "print(f\"Words that contain the word {substring}: \")\n",
    "if matching_words:\n",
    "    for x in range(len(matching_words)):\n",
    "        print (matching_words[x])\n",
    "else:\n",
    "    print(\"Not available.\")"
   ]
  },
  {
   "cell_type": "code",
   "execution_count": 11,
   "id": "14016b7c",
   "metadata": {},
   "outputs": [
    {
     "name": "stdout",
     "output_type": "stream",
     "text": [
      "['aa', 'aba', 'aga', 'aha', 'ala', 'alula', 'ama', 'ana', 'anna', 'ava', 'awa', 'bib', 'bob', 'boob', 'bub', 'civic', 'dad', 'deed', 'deified', 'deked', 'deled', 'denned', 'dewed', 'did', 'dud', 'eke', 'eme', 'ere', 'eve', 'ewe', 'eye', 'gag', 'gig', 'hah', 'halalah', 'hallah', 'huh', 'kaiak', 'kayak', 'keek', 'kook', 'level', 'madam', 'marram', 'mem', 'mim', 'minim', 'mom', 'mum', 'noon', 'nun', 'oho', 'otto', 'pap', 'peep', 'pep', 'pip', 'poop', 'pop', 'pup', 'radar', 'redder', 'refer', 'reifier', 'repaper', 'reviver', 'rotator', 'rotor', 'sagas', 'sees', 'selles', 'sememes', 'semes', 'seres', 'sexes', 'shahs', 'sis', 'solos', 'sos', 'stets', 'tat', 'tenet', 'terret', 'tit', 'toot', 'tot', 'tut', 'vav', 'waw', 'wow', 'yay']\n"
     ]
    }
   ],
   "source": [
    "#LETTER E\n",
    "with open('words.txt', 'r') as f:\n",
    "    words = f.read().split()\n",
    "    palindrome_words = []\n",
    "    for word in words:\n",
    "        if word == word[::-1]:\n",
    "             palindrome_words.append(word)\n",
    "print(palindrome_words)"
   ]
  },
  {
   "cell_type": "code",
   "execution_count": 54,
   "id": "ad14769c",
   "metadata": {},
   "outputs": [
    {
     "name": "stdout",
     "output_type": "stream",
     "text": [
      "{'a': 1, '\\n': 1, 'h': 1, 'e': 1, 'd': 1, 'i': 1, 'n': 1, 'g': 1, 's': 1, 'l': 1, 'r': 1, 'v': 1, 'k': 1, 'w': 1, 'o': 1, 'f': 1, 'b': 1, 'c': 1, 'u': 1, 't': 1, 'm': 1, 'p': 1, 'y': 1, 'x': 1, 'j': 1, 'z': 1, 'q': 1}\n"
     ]
    }
   ],
   "source": [
    "#LETTER F\n",
    "# y = character\n",
    "# x = line\n",
    "frequency = {}\n",
    "with open('words.txt', 'r') as f:\n",
    "    for x in f:\n",
    "        for y in x:\n",
    "            if x in frequency:   \n",
    "                frequency[y] +=1\n",
    "            else:\n",
    "                frequency[y] = 1\n",
    "                    \n",
    "print(frequency)"
   ]
  },
  {
   "cell_type": "code",
   "execution_count": 17,
   "id": "fda7612f",
   "metadata": {},
   "outputs": [
    {
     "name": "stdout",
     "output_type": "stream",
     "text": [
      "Welcome to the word guessing game!\n",
      "Word: _ _ _ _ _ _\n",
      "Guesses left: 8\n",
      "Guess a letter: a\n",
      "Sorry, the letter \"a\" is not in the word.\n",
      "Word: _ _ _ _ _ _\n",
      "Guesses left: 7\n",
      "Guess a letter: d\n",
      "Sorry, the letter \"d\" is not in the word.\n",
      "Word: _ _ _ _ _ _\n",
      "Guesses left: 6\n",
      "Guess a letter: d\n",
      "You already guessed that letter. Please try again.\n",
      "Word: _ _ _ _ _ _\n",
      "Guesses left: 6\n",
      "Guess a letter: w\n",
      "Sorry, the letter \"w\" is not in the word.\n",
      "Word: _ _ _ _ _ _\n",
      "Guesses left: 5\n",
      "Guess a letter: p\n",
      "Sorry, the letter \"p\" is not in the word.\n",
      "Word: _ _ _ _ _ _\n",
      "Guesses left: 4\n",
      "Guess a letter: d\n",
      "You already guessed that letter. Please try again.\n",
      "Word: _ _ _ _ _ _\n",
      "Guesses left: 4\n",
      "Guess a letter: f\n",
      "Sorry, the letter \"f\" is not in the word.\n",
      "Word: _ _ _ _ _ _\n",
      "Guesses left: 3\n",
      "Guess a letter: m\n",
      "Sorry, the letter \"m\" is not in the word.\n",
      "Word: _ _ _ _ _ _\n",
      "Guesses left: 2\n",
      "Guess a letter: d\n",
      "You already guessed that letter. Please try again.\n",
      "Word: _ _ _ _ _ _\n",
      "Guesses left: 2\n",
      "Guess a letter: 3\n",
      "Invalid input. Please enter a single letter.\n",
      "Guess a letter: r\n",
      "Sorry, the letter \"r\" is not in the word.\n",
      "Word: _ _ _ _ _ _\n",
      "Guesses left: 1\n",
      "Guess a letter: e\n",
      "Correct! The letter \"e\" is in the word.\n",
      "Word: _ _ _ _ e _\n",
      "Guesses left: 1\n",
      "Guess a letter: a\n",
      "You already guessed that letter. Please try again.\n",
      "Word: _ _ _ _ e _\n",
      "Guesses left: 1\n",
      "Guess a letter: l\n",
      "Sorry, the letter \"l\" is not in the word.\n",
      "Sorry, you ran out of guesses. The word was vogues.\n",
      "Thanks for playing!\n"
     ]
    }
   ],
   "source": [
    "import random\n",
    "# Function to read the words from the file and return a random word\n",
    "def get_word():\n",
    "    with open('words.txt', 'r') as f:\n",
    "        words = f.readlines()\n",
    "    return random.choice(words).strip()\n",
    "\n",
    "# Function to display the current state of the word\n",
    "def display_word(word, guessed_letters):\n",
    "    displayed_word = ''\n",
    "    for letter in word:\n",
    "        if letter in guessed_letters:\n",
    "            displayed_word += letter + ' '\n",
    "        else:\n",
    "            displayed_word += '_ '\n",
    "    return displayed_word.strip()\n",
    "\n",
    "# Function to get the player's guess\n",
    "def get_guess():\n",
    "    while True:\n",
    "        guess = input('Guess a letter: ').lower()\n",
    "        if len(guess) == 1 and guess.isalpha():\n",
    "            return guess\n",
    "        else:\n",
    "            print('Invalid input. Please enter a single letter.')\n",
    "\n",
    "# Main function to run the game\n",
    "def main():\n",
    "    print('Welcome to the word guessing game!')\n",
    "    word = get_word()\n",
    "    max_guesses = 8\n",
    "    guessed_letters = set()\n",
    "    while max_guesses > 0:\n",
    "        print(f'Word: {display_word(word, guessed_letters)}')\n",
    "        print(f'Guesses left: {max_guesses}')\n",
    "        guess = get_guess()\n",
    "        if guess in guessed_letters:\n",
    "            print('You already guessed that letter. Please try again.')\n",
    "        else:\n",
    "            guessed_letters.add(guess)\n",
    "            if guess in word:\n",
    "                if set(word) == guessed_letters:\n",
    "                    print(f'Congratulations, you guessed the word {word}!')\n",
    "                else:\n",
    "                    print(f'Correct! The letter \"{guess}\" is in the word.')\n",
    "            else:\n",
    "                max_guesses -= 1\n",
    "                print(f'Sorry, the letter \"{guess}\" is not in the word.')\n",
    "                if max_guesses == 0:\n",
    "                    print(f'Sorry, you ran out of guesses. The word was {word}.')\n",
    "        if set(word) == guessed_letters:\n",
    "            word = get_word()\n",
    "            max_guesses = 8\n",
    "            guessed_letters = set()\n",
    "    print('Thanks for playing!')\n",
    "if __name__ == '__main__':\n",
    "    main()"
   ]
  },
  {
   "cell_type": "code",
   "execution_count": 13,
   "id": "71f35033",
   "metadata": {},
   "outputs": [
    {
     "name": "stdout",
     "output_type": "stream",
     "text": [
      "Enter a value for n: 15\n",
      "The Fibonacci sequence for n = 15 using the iterative approach: [1, 1, 2, 3, 5, 8, 13, 21, 34, 55, 89, 144, 233, 377, 610]\n",
      "The Fibonacci sequence for n = 15 using the recursive approach: [0, 1, 1, 2, 3, 5, 8, 13, 21, 34, 55, 89, 144, 233, 377]\n",
      "The iterative approach took 0.000000 seconds to generate the sequence.\n",
      "The recursive approach took 0.000875 seconds to generate the sequence.\n"
     ]
    }
   ],
   "source": [
    "import time\n",
    "\n",
    "def iterative_fib(n):\n",
    "    fib_list = []\n",
    "    x = 1\n",
    "    y = 1\n",
    "    if n == 1:\n",
    "        fib_list.append(x)\n",
    "    else: \n",
    "        fib_list.append(x)\n",
    "        fib_list.append(y)\n",
    "        for z in range(2, n):\n",
    "            c = x + y\n",
    "            x = y\n",
    "            y = c\n",
    "            fib_list.append(c)\n",
    "    return fib_list\n",
    "\n",
    "def recursive_fib(n):\n",
    "    if n < 0:\n",
    "        return None\n",
    "    elif n == 1:\n",
    "        return [0]\n",
    "    elif n == 2:\n",
    "        return [0, 1]\n",
    "    else:\n",
    "        seq = recursive_fib(n - 1)\n",
    "        next_num = seq[-1] + seq[-2]\n",
    "        seq.append(next_num)\n",
    "        return seq\n",
    "\n",
    "n = int(input(\"Enter a value for n: \"))\n",
    "\n",
    "start_time = time.time()\n",
    "iterative_sequence = iterative_fib(n)\n",
    "end_time = time.time()\n",
    "iter_time = end_time - start_time\n",
    "\n",
    "start_time = time.time()\n",
    "recursive_sequence = recursive_fib(n)\n",
    "end_time = time.time()\n",
    "recurs_time = end_time - start_time\n",
    "\n",
    "print(f\"The Fibonacci sequence for n = {n} using the iterative approach: {iterative_sequence}\")\n",
    "print(f\"The Fibonacci sequence for n = {n} using the recursive approach: {recursive_sequence}\")\n",
    "print(f\"The iterative approach took {iter_time:.6f} seconds to generate the sequence.\")\n",
    "print(f\"The recursive approach took {recurs_time:.6f} seconds to generate the sequence.\")\n",
    "\n",
    "#iteration is faster than recursion. "
   ]
  },
  {
   "cell_type": "code",
   "execution_count": 5,
   "id": "ecb2e5e0",
   "metadata": {},
   "outputs": [
    {
     "name": "stdout",
     "output_type": "stream",
     "text": [
      "x of 0 is 2.000\n",
      "x of 1 is 2.154\n",
      "x of 2 is 2.097\n",
      "x of 3 is 2.119\n",
      "x of 4 is 2.111\n",
      "x of 5 is 2.114\n",
      "x of 6 is 2.113\n",
      "x of 7 is 2.113\n",
      "----------\n",
      "The root is approximately 2.113\n"
     ]
    }
   ],
   "source": [
    "#QUESTION 3\n",
    "import math \n",
    "def f(x):\n",
    "    return pow(20-5*x, 1/3)\n",
    "x0=2\n",
    "#decimal place\n",
    "marg_error = 0.001\n",
    "iteration_limit = 100\n",
    "n = 0\n",
    "while n < iteration_limit:\n",
    "    x1=f(x0)\n",
    "    print (f\"x of {n:1d} is {x0:.3f}\")\n",
    "    if n == 6 and abs(x1 - x0) < marg_error:\n",
    "        print (f\"x of {n+1:d} is {x0:.3f}\")\n",
    "        break\n",
    "    x0 = x1\n",
    "    n+=1\n",
    "\n",
    "print(\"-\"* 10)\n",
    "print (f\"The root is approximately {x1:.3f}\")"
   ]
  }
 ],
 "metadata": {
  "kernelspec": {
   "display_name": "Python 3 (ipykernel)",
   "language": "python",
   "name": "python3"
  },
  "language_info": {
   "codemirror_mode": {
    "name": "ipython",
    "version": 3
   },
   "file_extension": ".py",
   "mimetype": "text/x-python",
   "name": "python",
   "nbconvert_exporter": "python",
   "pygments_lexer": "ipython3",
   "version": "3.9.13"
  }
 },
 "nbformat": 4,
 "nbformat_minor": 5
}
