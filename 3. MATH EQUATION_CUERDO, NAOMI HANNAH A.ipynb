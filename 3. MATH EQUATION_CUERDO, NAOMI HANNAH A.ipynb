{
 "cells": [
  {
   "cell_type": "code",
   "execution_count": 5,
   "id": "ecb2e5e0",
   "metadata": {},
   "outputs": [
    {
     "name": "stdout",
     "output_type": "stream",
     "text": [
      "x of 0 is 2.000\n",
      "x of 1 is 2.154\n",
      "x of 2 is 2.097\n",
      "x of 3 is 2.119\n",
      "x of 4 is 2.111\n",
      "x of 5 is 2.114\n",
      "x of 6 is 2.113\n",
      "x of 7 is 2.113\n",
      "----------\n",
      "The root is approximately 2.113\n"
     ]
    }
   ],
   "source": [
    "#QUESTION 3\n",
    "import math \n",
    "def f(x):\n",
    "    return pow(20-5*x, 1/3)\n",
    "x0=2\n",
    "#decimal place\n",
    "marg_error = 0.001\n",
    "iteration_limit = 100\n",
    "n = 0\n",
    "while n < iteration_limit:\n",
    "    x1=f(x0)\n",
    "    print (f\"x of {n:1d} is {x0:.3f}\")\n",
    "    if n == 6 and abs(x1 - x0) < marg_error:\n",
    "        print (f\"x of {n+1:d} is {x0:.3f}\")\n",
    "        break\n",
    "    x0 = x1\n",
    "    n+=1\n",
    "\n",
    "print(\"-\"* 10)\n",
    "print (f\"The root is approximately {x1:.3f}\")"
   ]
  }
 ],
 "metadata": {
  "kernelspec": {
   "display_name": "Python 3 (ipykernel)",
   "language": "python",
   "name": "python3"
  },
  "language_info": {
   "codemirror_mode": {
    "name": "ipython",
    "version": 3
   },
   "file_extension": ".py",
   "mimetype": "text/x-python",
   "name": "python",
   "nbconvert_exporter": "python",
   "pygments_lexer": "ipython3",
   "version": "3.9.13"
  }
 },
 "nbformat": 4,
 "nbformat_minor": 5
}
