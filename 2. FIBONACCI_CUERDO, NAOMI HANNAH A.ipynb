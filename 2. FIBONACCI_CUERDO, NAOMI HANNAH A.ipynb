{
 "cells": [
  {
   "cell_type": "code",
   "execution_count": 13,
   "id": "71f35033",
   "metadata": {},
   "outputs": [
    {
     "name": "stdout",
     "output_type": "stream",
     "text": [
      "Enter a value for n: 15\n",
      "The Fibonacci sequence for n = 15 using the iterative approach: [1, 1, 2, 3, 5, 8, 13, 21, 34, 55, 89, 144, 233, 377, 610]\n",
      "The Fibonacci sequence for n = 15 using the recursive approach: [0, 1, 1, 2, 3, 5, 8, 13, 21, 34, 55, 89, 144, 233, 377]\n",
      "The iterative approach took 0.000000 seconds to generate the sequence.\n",
      "The recursive approach took 0.000875 seconds to generate the sequence.\n"
     ]
    }
   ],
   "source": [
    "#FIBONACCI\n",
    "import time\n",
    "\n",
    "def iterative_fib(n):\n",
    "    fib_list = []\n",
    "    x = 1\n",
    "    y = 1\n",
    "    if n == 1:\n",
    "        fib_list.append(x)\n",
    "    else: \n",
    "        fib_list.append(x)\n",
    "        fib_list.append(y)\n",
    "        for z in range(2, n):\n",
    "            c = x + y\n",
    "            x = y\n",
    "            y = c\n",
    "            fib_list.append(c)\n",
    "    return fib_list\n",
    "\n",
    "def recursive_fib(n):\n",
    "    if n < 0:\n",
    "        return None\n",
    "    elif n == 1:\n",
    "        return [0]\n",
    "    elif n == 2:\n",
    "        return [0, 1]\n",
    "    else:\n",
    "        seq = recursive_fib(n - 1)\n",
    "        next_num = seq[-1] + seq[-2]\n",
    "        seq.append(next_num)\n",
    "        return seq\n",
    "\n",
    "n = int(input(\"Enter a value for n: \"))\n",
    "\n",
    "start_time = time.time()\n",
    "iterative_sequence = iterative_fib(n)\n",
    "end_time = time.time()\n",
    "iter_time = end_time - start_time\n",
    "\n",
    "start_time = time.time()\n",
    "recursive_sequence = recursive_fib(n)\n",
    "end_time = time.time()\n",
    "recurs_time = end_time - start_time\n",
    "\n",
    "print(f\"The Fibonacci sequence for n = {n} using the iterative approach: {iterative_sequence}\")\n",
    "print(f\"The Fibonacci sequence for n = {n} using the recursive approach: {recursive_sequence}\")\n",
    "print(f\"The iterative approach took {iter_time:.6f} seconds to generate the sequence.\")\n",
    "print(f\"The recursive approach took {recurs_time:.6f} seconds to generate the sequence.\")\n",
    "\n",
    "#iteration is faster than recursion. "
   ]
  }
 ],
 "metadata": {
  "kernelspec": {
   "display_name": "Python 3 (ipykernel)",
   "language": "python",
   "name": "python3"
  },
  "language_info": {
   "codemirror_mode": {
    "name": "ipython",
    "version": 3
   },
   "file_extension": ".py",
   "mimetype": "text/x-python",
   "name": "python",
   "nbconvert_exporter": "python",
   "pygments_lexer": "ipython3",
   "version": "3.9.13"
  }
 },
 "nbformat": 4,
 "nbformat_minor": 5
}
